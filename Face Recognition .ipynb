{
 "cells": [
  {
   "cell_type": "code",
   "execution_count": 1,
   "id": "df3dab21",
   "metadata": {},
   "outputs": [
    {
     "name": "stdout",
     "output_type": "stream",
     "text": [
      "Requirement already satisfied: opencv-contrib-python in c:\\users\\asus\\anaconda3\\lib\\site-packages (4.7.0.72)\n",
      "Requirement already satisfied: numpy>=1.19.3 in c:\\users\\asus\\anaconda3\\lib\\site-packages (from opencv-contrib-python) (1.21.5)\n",
      "Note: you may need to restart the kernel to use updated packages.\n"
     ]
    }
   ],
   "source": [
    "pip install opencv-contrib-python"
   ]
  },
  {
   "cell_type": "code",
   "execution_count": 9,
   "id": "a214b70a",
   "metadata": {},
   "outputs": [],
   "source": [
    "import os\n",
    "import cv2\n",
    "import numpy"
   ]
  },
  {
   "cell_type": "code",
   "execution_count": 10,
   "id": "00bf3a80",
   "metadata": {},
   "outputs": [],
   "source": [
    "def read_images(path, image_size):\n",
    "    names = []\n",
    "    training_images, training_labels = [], []\n",
    "    label = 0\n",
    "    for dirname, subdirnames, filenames in os.walk(path):\n",
    "        for subdirname in subdirnames:\n",
    "            names.append(subdirname)\n",
    "            subject_path = os.path.join(dirname, subdirname)\n",
    "            for filename in os.listdir(subject_path):\n",
    "                img = cv2.imread(os.path.join(subject_path, filename),\n",
    "                                                 cv2.IMREAD_GRAYSCALE)\n",
    "            if img is None:\n",
    "                 # The file cannot be loaded as an image.\n",
    "                 # Skip it.\n",
    "                continue\n",
    "            img = cv2.resize(img, image_size)\n",
    "            training_images.append(img)\n",
    "            training_labels.append(label)\n",
    "        label += 1\n",
    "    training_images = numpy.asarray(training_images, numpy.uint8)\n",
    "    training_labels = numpy.asarray(training_labels, numpy.int32)\n",
    "    return names, training_images, training_labels"
   ]
  },
  {
   "cell_type": "code",
   "execution_count": 11,
   "id": "d75fee18",
   "metadata": {},
   "outputs": [],
   "source": [
    "path_to_training_images = \"face_imgs\"\n",
    "training_image_size = (200, 200)\n",
    "names, training_images, training_labels = read_images(\n",
    "path_to_training_images, training_image_size)"
   ]
  },
  {
   "cell_type": "code",
   "execution_count": 12,
   "id": "0e415d6a",
   "metadata": {},
   "outputs": [],
   "source": [
    "face_cascade = cv2.CascadeClassifier(\n",
    "\"haarcascade_frontalface_alt.xml\")"
   ]
  },
  {
   "cell_type": "code",
   "execution_count": 13,
   "id": "81aa0c49",
   "metadata": {},
   "outputs": [],
   "source": [
    "#three different algorithms for recognizing faces: Eigenfaces, Fisherfaces, LBPHs\n",
    "\n",
    "#model = cv2.face.FisherFaceRecognizer.create()\n",
    "#model = cv2.face.LBPHFaceRecognizer_create()\n",
    "model = cv2.face.EigenFaceRecognizer_create()\n",
    "\n",
    "model.train(training_images, training_labels)"
   ]
  },
  {
   "cell_type": "code",
   "execution_count": null,
   "id": "e3467d04",
   "metadata": {},
   "outputs": [],
   "source": [
    "camera = cv2.VideoCapture(0)\n",
    "while (cv2.waitKey(1) == -1):\n",
    "    success, frame = camera.read()\n",
    "    if success:\n",
    "        faces = face_cascade.detectMultiScale(frame, 1.3, 5)\n",
    "        for (x, y, w, h) in faces:\n",
    "            cv2.rectangle(frame, (x, y), (x+w, y+h), (255, 0, 0), 2)\n",
    "            gray = cv2.cvtColor(frame, cv2.COLOR_BGR2GRAY)\n",
    "            roi_gray = gray[x:x+w, y:y+h]\n",
    "            if roi_gray.size == 0:\n",
    "            # The ROI is empty. Maybe the face is at the image edge.\n",
    "            # Skip it.\n",
    "                continue\n",
    "            roi_gray = cv2.resize(roi_gray, training_image_size)\n",
    "            label, confidence = model.predict(roi_gray)\n",
    "            text = '%s, confidence=%.2f' % (names[label], confidence)\n",
    "            cv2.putText(frame, text, (x, y - 20),\n",
    "            cv2.FONT_HERSHEY_SIMPLEX, 1, (255, 0, 0), 2)\n",
    "        cv2.imshow('Face Recognition', frame)\n"
   ]
  }
 ],
 "metadata": {
  "kernelspec": {
   "display_name": "Python 3 (ipykernel)",
   "language": "python",
   "name": "python3"
  },
  "language_info": {
   "codemirror_mode": {
    "name": "ipython",
    "version": 3
   },
   "file_extension": ".py",
   "mimetype": "text/x-python",
   "name": "python",
   "nbconvert_exporter": "python",
   "pygments_lexer": "ipython3",
   "version": "3.9.13"
  }
 },
 "nbformat": 4,
 "nbformat_minor": 5
}
